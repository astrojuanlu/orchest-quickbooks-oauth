{
 "cells": [
  {
   "cell_type": "markdown",
   "id": "3c33f8a7-22dd-4f48-aa78-37b2e0617fd9",
   "metadata": {
    "tags": []
   },
   "source": [
    "#### Refresh script"
   ]
  },
  {
   "cell_type": "code",
   "execution_count": 1,
   "id": "60295d20-d808-4793-b0cb-4bf85c62283e",
   "metadata": {},
   "outputs": [],
   "source": [
    "import time\n",
    "\n",
    "from utils import get_quickbooks_client, get_shared_dict"
   ]
  },
  {
   "cell_type": "code",
   "execution_count": 2,
   "id": "ef658c88-459c-4c83-8a3d-ea96d890a554",
   "metadata": {},
   "outputs": [],
   "source": [
    "def refresh():\n",
    "    shared_dict = get_shared_dict()\n",
    "    auth_client = get_quickbooks_client()\n",
    "\n",
    "    # Refresh the refresh_token at least once every 24 hours (otherwise a new auth_code is required, which requires a manual action: visiting the authorization URL)\n",
    "    auth_client.refresh(refresh_token=shared_dict['refresh_token'])\n",
    "\n",
    "    # Store updated tokens\n",
    "    shared_dict['refresh_token'] = auth_client.refresh_token\n",
    "    shared_dict['access_token'] = auth_client.access_token\n",
    "\n",
    "    shared_dict.close()"
   ]
  },
  {
   "cell_type": "code",
   "execution_count": null,
   "id": "088b8094-669b-41c3-a8c4-87dd73d9e594",
   "metadata": {},
   "outputs": [],
   "source": [
    "# This step runs in an endless loop\n",
    "while True:\n",
    "    \n",
    "    try:\n",
    "        refresh()\n",
    "        print(\"Refresh succeeded.\")\n",
    "    except Exception as e:\n",
    "        print(\"Could not refresh token: %s [%s]\" % (e, type(e)))\n",
    "    \n",
    "    # Run every 30 minutes\n",
    "    time.sleep(60 * 30)"
   ]
  }
 ],
 "metadata": {
  "kernelspec": {
   "display_name": "Python 3",
   "language": "python",
   "name": "orchest-kernel-1ec3ad5d-acd9-423b-b3e3-f574113e31a1"
  },
  "language_info": {
   "codemirror_mode": {
    "name": "ipython",
    "version": 3
   },
   "file_extension": ".py",
   "mimetype": "text/x-python",
   "name": "python",
   "nbconvert_exporter": "python",
   "pygments_lexer": "ipython3",
   "version": "3.7.6"
  }
 },
 "nbformat": 4,
 "nbformat_minor": 5
}
