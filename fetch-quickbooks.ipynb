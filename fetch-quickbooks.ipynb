{
 "cells": [
  {
   "cell_type": "code",
   "execution_count": 1,
   "id": "1e8b4f15-7ee9-48ff-afee-547e5009d08a",
   "metadata": {},
   "outputs": [],
   "source": [
    "import requests\n",
    "\n",
    "from utils import get_quickbooks_client"
   ]
  },
  {
   "cell_type": "code",
   "execution_count": 2,
   "id": "d651ea13-f020-4c63-936f-00b0afacf2e3",
   "metadata": {},
   "outputs": [],
   "source": [
    "auth_client = get_quickbooks_client()"
   ]
  },
  {
   "cell_type": "code",
   "execution_count": 3,
   "id": "5fd80d15-ada6-43c3-a238-ffce6326fd6a",
   "metadata": {},
   "outputs": [
    {
     "name": "stdout",
     "output_type": "stream",
     "text": [
      "{'CompanyInfo': {'CompanyName': 'Sandbox Company_US_1', 'LegalName': 'Sandbox Company_US_1', 'CompanyAddr': {'Id': '1', 'Line1': '123 Sierra Way', 'City': 'San Pablo', 'CountrySubDivisionCode': 'CA', 'PostalCode': '87999', 'Lat': '36.6788345', 'Long': '-5.4464622'}, 'CustomerCommunicationAddr': {'Id': '1', 'Line1': '123 Sierra Way', 'City': 'San Pablo', 'CountrySubDivisionCode': 'CA', 'PostalCode': '87999', 'Lat': '36.6788345', 'Long': '-5.4464622'}, 'LegalAddr': {'Id': '1', 'Line1': '123 Sierra Way', 'City': 'San Pablo', 'CountrySubDivisionCode': 'CA', 'PostalCode': '87999', 'Lat': '36.6788345', 'Long': '-5.4464622'}, 'PrimaryPhone': {}, 'CompanyStartDate': '2021-09-01', 'FiscalYearStartMonth': 'January', 'Country': 'US', 'Email': {'Address': 'noreply@quickbooks.com'}, 'WebAddr': {}, 'SupportedLanguages': 'en', 'NameValue': [{'Name': 'NeoEnabled', 'Value': 'true'}, {'Name': 'IsQbdtMigrated', 'Value': 'false'}, {'Name': 'CompanyType', 'Value': 'Other'}, {'Name': 'SubscriptionStatus', 'Value': 'SUBSCRIBED'}, {'Name': 'OfferingSku', 'Value': 'QuickBooks Online Plus'}, {'Name': 'PayrollFeature', 'Value': 'false'}, {'Name': 'AccountantFeature', 'Value': 'false'}, {'Name': 'QBOIndustryType', 'Value': 'Landscaping Services'}, {'Name': 'ItemCategoriesFeature', 'Value': 'true'}, {'Name': 'AssignedTime', 'Value': '2021-09-28T03:07:38-07:00'}], 'domain': 'QBO', 'sparse': False, 'Id': '1', 'SyncToken': '8', 'MetaData': {'CreateTime': '2021-09-01T12:53:00-07:00', 'LastUpdatedTime': '2021-09-28T02:40:16-07:00'}}, 'time': '2021-09-28T06:40:30.998-07:00'}\n"
     ]
    }
   ],
   "source": [
    "base_url = 'https://sandbox-quickbooks.api.intuit.com'\n",
    "url = '{0}/v3/company/{1}/companyinfo/{1}'.format(base_url, auth_client.realm_id)\n",
    "auth_header = 'Bearer {0}'.format(auth_client.access_token)\n",
    "headers = {\n",
    "    'Authorization': auth_header,\n",
    "    'Accept': 'application/json'\n",
    "}\n",
    "response = requests.get(url, headers=headers)\n",
    "print(response.json())"
   ]
  }
 ],
 "metadata": {
  "kernelspec": {
   "display_name": "Python 3",
   "language": "python",
   "name": "orchest-kernel-1ec3ad5d-acd9-423b-b3e3-f574113e31a1"
  },
  "language_info": {
   "codemirror_mode": {
    "name": "ipython",
    "version": 3
   },
   "file_extension": ".py",
   "mimetype": "text/x-python",
   "name": "python",
   "nbconvert_exporter": "python",
   "pygments_lexer": "ipython3",
   "version": "3.7.6"
  }
 },
 "nbformat": 4,
 "nbformat_minor": 5
}
