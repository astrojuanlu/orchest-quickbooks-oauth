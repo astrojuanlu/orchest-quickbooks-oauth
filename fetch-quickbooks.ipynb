{
 "cells": [
  {
   "cell_type": "code",
   "execution_count": 1,
   "id": "1e8b4f15-7ee9-48ff-afee-547e5009d08a",
   "metadata": {},
   "outputs": [],
   "source": [
    "import requests\n",
    "\n",
    "from utils import get_quickbooks_client"
   ]
  },
  {
   "cell_type": "code",
   "execution_count": 2,
   "id": "d651ea13-f020-4c63-936f-00b0afacf2e3",
   "metadata": {},
   "outputs": [],
   "source": [
    "auth_client = get_quickbooks_client()"
   ]
  },
  {
   "cell_type": "code",
   "execution_count": null,
   "id": "5fd80d15-ada6-43c3-a238-ffce6326fd6a",
   "metadata": {},
   "outputs": [],
   "source": [
    "base_url = 'https://sandbox-quickbooks.api.intuit.com'\n",
    "url = '{0}/v3/company/{1}/companyinfo/{1}'.format(base_url, auth_client.realm_id)\n",
    "auth_header = 'Bearer {0}'.format(auth_client.access_token)\n",
    "headers = {\n",
    "    'Authorization': auth_header,\n",
    "    'Accept': 'application/json'\n",
    "}\n",
    "response = requests.get(url, headers=headers)\n",
    "print(response.json())"
   ]
  }
 ],
 "metadata": {
  "kernelspec": {
   "display_name": "Python 3",
   "language": "python",
   "name": "orchest-kernel-1ec3ad5d-acd9-423b-b3e3-f574113e31a1"
  },
  "language_info": {
   "codemirror_mode": {
    "name": "ipython",
    "version": 3
   },
   "file_extension": ".py",
   "mimetype": "text/x-python",
   "name": "python",
   "nbconvert_exporter": "python",
   "pygments_lexer": "ipython3",
   "version": "3.7.6"
  }
 },
 "nbformat": 4,
 "nbformat_minor": 5
}
