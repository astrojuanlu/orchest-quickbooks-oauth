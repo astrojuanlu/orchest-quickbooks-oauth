{
 "cells": [
  {
   "cell_type": "code",
   "execution_count": 1,
   "id": "2e107a74-01fd-48e7-b9e7-d278f1e44475",
   "metadata": {},
   "outputs": [],
   "source": [
    "import time\n",
    "\n",
    "from utils import get_quickbooks_client, construct_redirect_url, get_shared_dict, construct_oauth_server_url\n",
    "from intuitlib.enums import Scopes"
   ]
  },
  {
   "cell_type": "code",
   "execution_count": 2,
   "id": "2d955563-16e9-4e2c-814e-2bc40d13e0df",
   "metadata": {},
   "outputs": [],
   "source": [
    "shared_dict = get_shared_dict()"
   ]
  },
  {
   "cell_type": "code",
   "execution_count": 3,
   "id": "15970c4c-135f-43d9-b3f9-17c2bd783c35",
   "metadata": {},
   "outputs": [],
   "source": [
    "shared_dict['initial_auth_completed'] = False\n",
    "shared_dict['confirmed_settings'] = False"
   ]
  },
  {
   "cell_type": "code",
   "execution_count": 4,
   "id": "e2f65bcf-f495-4ae0-81b8-badea5cb212d",
   "metadata": {},
   "outputs": [
    {
     "name": "stdout",
     "output_type": "stream",
     "text": [
      "Redirect URL: http://optimistic-joliot-77ce7028.orchestapp.io/service-flask-oauth-d6af99ab-0d9bf7f0_80/callback\n",
      "Put this in your OAuth App configuration before proceeding.\n"
     ]
    }
   ],
   "source": [
    "print(\"Redirect URL: %s\" % construct_redirect_url())\n",
    "print(\"Put this in your OAuth App configuration before proceeding.\")"
   ]
  },
  {
   "cell_type": "code",
   "execution_count": 5,
   "id": "08bcf10f-8be1-4981-bad9-26b2447fed9c",
   "metadata": {},
   "outputs": [],
   "source": [
    "oauth_server_url = construct_oauth_server_url()\n",
    "confirm_settings_url = oauth_server_url + \"confirm-settings\""
   ]
  },
  {
   "cell_type": "code",
   "execution_count": 6,
   "id": "7911218e-d956-48ca-8bb1-d2573ad1bc24",
   "metadata": {},
   "outputs": [
    {
     "name": "stdout",
     "output_type": "stream",
     "text": [
      "Click on this link when you have configured the Redirect URL in the OAuth app: http://optimistic-joliot-77ce7028.orchestapp.io/service-flask-oauth-d6af99ab-0d9bf7f0_80/confirm-settings\n"
     ]
    }
   ],
   "source": [
    "print(\"Click on this link when you have configured the Redirect URL in the OAuth app: %s\" % confirm_settings_url)"
   ]
  },
  {
   "cell_type": "code",
   "execution_count": 7,
   "id": "928bef5b-5cbf-4a9a-b705-b41e90093384",
   "metadata": {},
   "outputs": [
    {
     "name": "stdout",
     "output_type": "stream",
     "text": [
      "Waiting for confirmation."
     ]
    },
    {
     "name": "stdout",
     "output_type": "stream",
     "text": [
      "."
     ]
    },
    {
     "name": "stdout",
     "output_type": "stream",
     "text": [
      "."
     ]
    },
    {
     "name": "stdout",
     "output_type": "stream",
     "text": [
      "\n",
      "Confirmed! You can now authenticate\n"
     ]
    }
   ],
   "source": [
    "print(\"Waiting for confirmation\", end=\"\")\n",
    "while True:\n",
    "    # Wait until \n",
    "    if shared_dict['confirmed_settings']:\n",
    "        print(\"\\nConfirmed! You can now authenticate\")\n",
    "        break\n",
    "    print(\".\", end=\"\")\n",
    "    time.sleep(3)"
   ]
  },
  {
   "cell_type": "code",
   "execution_count": 8,
   "id": "3ffbb957-c8c5-40a7-800c-b4e6e6958f12",
   "metadata": {},
   "outputs": [],
   "source": [
    "auth_client = get_quickbooks_client()"
   ]
  },
  {
   "cell_type": "code",
   "execution_count": 9,
   "id": "35994947-e56e-4359-916a-94b0bbd2fe0c",
   "metadata": {},
   "outputs": [
    {
     "name": "stdout",
     "output_type": "stream",
     "text": [
      "Visit https://appcenter.intuit.com/connect/oauth2?client_id=ABWv2WUnasyy7jih8khjbpQWtg2lv8zuPMF3aWgOgcCtp5bPhw&response_type=code&scope=com.intuit.quickbooks.accounting&redirect_uri=http%3A%2F%2Foptimistic-joliot-77ce7028.orchestapp.io%2Fservice-flask-oauth-d6af99ab-0d9bf7f0_80%2Fcallback&state=T8bqwNb7gQmp0pow50HsMsvawN5Tsl to authenticate pipeline.\n"
     ]
    }
   ],
   "source": [
    "url = auth_client.get_authorization_url([Scopes.ACCOUNTING])\n",
    "\n",
    "print(\"Visit %s to authenticate pipeline.\" % url)"
   ]
  },
  {
   "cell_type": "code",
   "execution_count": 10,
   "id": "8f27ca05-c257-4dd6-b2f3-a5d0459d25b3",
   "metadata": {},
   "outputs": [
    {
     "name": "stdout",
     "output_type": "stream",
     "text": [
      "Waiting for authentication."
     ]
    },
    {
     "name": "stdout",
     "output_type": "stream",
     "text": [
      "."
     ]
    },
    {
     "name": "stdout",
     "output_type": "stream",
     "text": [
      "."
     ]
    },
    {
     "name": "stdout",
     "output_type": "stream",
     "text": [
      "\n",
      "Authentication complete!\n"
     ]
    }
   ],
   "source": [
    "print(\"Waiting for authentication\", end=\"\")\n",
    "while True:\n",
    "    # Wait until \n",
    "    if shared_dict['initial_auth_completed']:\n",
    "        print(\"\\nAuthentication complete!\")\n",
    "        break\n",
    "    print(\".\", end=\"\")\n",
    "    time.sleep(3)"
   ]
  }
 ],
 "metadata": {
  "kernelspec": {
   "display_name": "Python 3",
   "language": "python",
   "name": "orchest-kernel-1ec3ad5d-acd9-423b-b3e3-f574113e31a1"
  },
  "language_info": {
   "codemirror_mode": {
    "name": "ipython",
    "version": 3
   },
   "file_extension": ".py",
   "mimetype": "text/x-python",
   "name": "python",
   "nbconvert_exporter": "python",
   "pygments_lexer": "ipython3",
   "version": "3.7.6"
  }
 },
 "nbformat": 4,
 "nbformat_minor": 5
}
